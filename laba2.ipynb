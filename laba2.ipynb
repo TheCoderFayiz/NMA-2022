{
  "nbformat": 4,
  "nbformat_minor": 0,
  "metadata": {
    "colab": {
      "name": "laba2.ipynb",
      "provenance": []
    },
    "kernelspec": {
      "display_name": "Python 3",
      "language": "python",
      "name": "python3"
    },
    "language_info": {
      "codemirror_mode": {
        "name": "ipython",
        "version": 3
      },
      "file_extension": ".py",
      "mimetype": "text/x-python",
      "name": "python",
      "nbconvert_exporter": "python",
      "pygments_lexer": "ipython3",
      "version": "3.6.4"
    }
  },
  "cells": [
    {
      "cell_type": "markdown",
      "metadata": {
        "id": "5QzbtAa3c9Lq"
      },
      "source": [
        "# Домашняя работа №2 (Курс \"Advanced Python\")\n",
        "## ФИО: Закирова Марфа"
      ]
    },
    {
      "cell_type": "markdown",
      "metadata": {
        "id": "n9S5QS7hc9L8"
      },
      "source": [
        "**Тема:** Функции в Python  \n",
        "**Выдана:** 16.09  \n",
        "**Дедлайн выполнения:**  22.09  "
      ]
    },
    {
      "cell_type": "markdown",
      "metadata": {
        "id": "Bj38yP2Ic9MA"
      },
      "source": [
        "Правила: Результат выполнения задания - отчет в формате Jupyter Notebook с кодом и выводами. В ходе выполнения задания требуется реализовать все необходимые алгоритмы, провести эксперименты и ответить на поставленные вопросы. Дополнительные выводы приветствуются. Чем меньше кода и больше комментариев - тем лучше.\n",
        "\n",
        "Все ячейки должны быть \"выполненными\", при этом результат должен воспроизвдиться при проверке.\n",
        "\n",
        "Задание выполняется самостоятельно. Если вы нашли в Интернете какой-то код, который собираетесь заимствовать, обязательно укажите это в задании. Если вы советовались с товарищем и/или позаимствовали его решение, обязательно укажите об этом в отчете. Нет ничего плохого в том, что вы пытаетесь разобраться и помогаете друг другу; плохо - когда вы скрываете это и выдаете чужие заслуги за свои. При обнаружении списывания ВСЕМ студентам, имеющим одинаковые списанные решения будет выставлен ОТРИЦАТЕЛЬНЫЙ балл (т.е если задача стоит 4 балла, вы получите не 0, а -4), \"оригинал\" искаться не будет\n",
        "\n",
        "Задание, сданное после жесткого дедлайна, не принимается."
      ]
    },
    {
      "cell_type": "markdown",
      "metadata": {
        "id": "0uSsztG_c9MD"
      },
      "source": [
        "### Задача 1: (2 балла)"
      ]
    },
    {
      "cell_type": "markdown",
      "metadata": {
        "id": "eIEom5Hkc9MF"
      },
      "source": [
        "Реализуйте функцию, которая будет вычислять количество различных объектов в переданном ей списке.   \n",
        "Два объекта a и b считаются различными, если a is b равно False."
      ]
    },
    {
      "cell_type": "code",
      "metadata": {
        "collapsed": true,
        "id": "4c5XVEhUc9MH"
      },
      "source": [
        "def equal(a):\n",
        "  kolvo=0\n",
        "  z=[]\n",
        "  for i in range(len(a)):\n",
        "    for j in range(i+1,len(a)): #при проверке n-го элемента, его сочетание с предыдущими элементами уже проверено; по идее можно также идти от начала массива,но так быстрее\n",
        "      if (a[i] is a[j])==False:\n",
        "        if (a[i] in z)==False:\n",
        "          z.append(a[i])\n",
        "          kolvo+=1\n",
        "        if (a[j] in z)==False:\n",
        "          z.append(a[j])\n",
        "          kolvo+=1\n",
        "  return kolvo\n"
      ],
      "execution_count": null,
      "outputs": []
    },
    {
      "cell_type": "code",
      "metadata": {
        "colab": {
          "base_uri": "https://localhost:8080/"
        },
        "id": "mVL5JmyvhL2k",
        "outputId": "84e03ef5-f77f-4dd0-97c3-a8868a4c5da8"
      },
      "source": [
        "#equal(['a','a',8,0,10,8,'leo'])\n",
        "equal([[],[]])"
      ],
      "execution_count": null,
      "outputs": [
        {
          "output_type": "execute_result",
          "data": {
            "text/plain": [
              "1"
            ]
          },
          "metadata": {},
          "execution_count": 2
        }
      ]
    },
    {
      "cell_type": "markdown",
      "metadata": {
        "id": "T3YS7ODFvfJA"
      },
      "source": [
        "*Обсуждали этот вариант с Лизой, возможна схожесть решения*"
      ]
    },
    {
      "cell_type": "markdown",
      "metadata": {
        "id": "Pf1KeQ9ugP8j"
      },
      "source": [
        "*Простой вариант решения, используя свойства множества* set()"
      ]
    },
    {
      "cell_type": "code",
      "metadata": {
        "colab": {
          "base_uri": "https://localhost:8080/"
        },
        "id": "XT971SnDdt4U",
        "outputId": "cf4cbd94-04b4-4891-c9a6-eaf589043144"
      },
      "source": [
        "def eq(a):\n",
        "  x = set(a)\n",
        "  return len(x)\n",
        "\n",
        "eq(['a','a',8,0,10,8,'leo'])"
      ],
      "execution_count": null,
      "outputs": [
        {
          "output_type": "execute_result",
          "data": {
            "text/plain": [
              "5"
            ]
          },
          "metadata": {},
          "execution_count": 11
        }
      ]
    },
    {
      "cell_type": "markdown",
      "metadata": {
        "id": "EKblSWokc9MN"
      },
      "source": [
        "### Задача 2: (1 балл)\n",
        "Реализуйте функцию, которая будет вычислять количество различных объектов среди переданных ей аргументов.   \n",
        "Два объекта a и b считаются различными, если a is b равно False.    "
      ]
    },
    {
      "cell_type": "code",
      "metadata": {
        "collapsed": true,
        "id": "WNdLgc1mc9MS"
      },
      "source": [
        "def quantity(*args):\n",
        "  return equal(list(args)) #аналогично с функцией eq"
      ],
      "execution_count": null,
      "outputs": []
    },
    {
      "cell_type": "code",
      "metadata": {
        "colab": {
          "base_uri": "https://localhost:8080/"
        },
        "id": "W-NM4-jMjqpg",
        "outputId": "30cf2240-1196-4c4c-ca16-84617e4b6c81"
      },
      "source": [
        "quantity('a','a',8,0,10,8,'leo')"
      ],
      "execution_count": null,
      "outputs": [
        {
          "output_type": "execute_result",
          "data": {
            "text/plain": [
              "5"
            ]
          },
          "metadata": {},
          "execution_count": 13
        }
      ]
    },
    {
      "cell_type": "markdown",
      "metadata": {
        "id": "cVgztIrgc9MU"
      },
      "source": [
        "### Задача 3: (2 балла)\n",
        "Реализуйте функцию, которая будет вычислять общее количество различных объектов, которые содержатся в ее аргументах, т.е например  \n",
        "n_different([0, 1, 2], [[2, 3, 4], [5 , 6]], 6) == 7 (за числа) + 1 (за первый лист) + 2 (за два вложенных листа во втором аргументе) + 1 (за лист из второго аргумента)\n",
        "\n",
        "Ваша функция должна КАК МИНИМУМ корректно обрабатывать все встроенные стандартные типы данных  \n",
        "Вам может пригодиться модуль collections.abc, а также isinstance"
      ]
    },
    {
      "cell_type": "code",
      "metadata": {
        "id": "S1NO3gT5biLM"
      },
      "source": [
        "from collections.abc import Iterable\n",
        "\n",
        "array=[] #вспомогательный массив куда будем записывать значения представленные аргументами\n",
        "z=0 #cчетчик Bool'ов\n",
        "\n",
        "def different(*args):\n",
        "  \"\"\" возвращает кол-во различных содержимых\"\"\"\n",
        "  global z\n",
        "  if z!=0:\n",
        "    z=0\n",
        "  global array\n",
        "  if len(array)!=0: #условие выполняется в случае если программу вызвавали несколько раз, в array будет содержаться результаты прошлых вызовов\n",
        "    array=[]\n",
        "  return raspakovka(list(args))\n",
        "\n",
        "def raspakovka(x):\n",
        "  global z\n",
        "  if type(x).__name__=='dict': #если элемент - словарь, то записываем его цельно и разбиваем на пары ключ:значение, анализируем их\n",
        "    array.append(x)\n",
        "    raspakovka(x.items())\n",
        "  else:\n",
        "    for elem in x: #итерируемый элемент либо изменяемый либо нет\n",
        "      if isinstance(elem, Iterable):\n",
        "        if isinstance(elem,str)!=True:\n",
        "          array.append(elem)\n",
        "          raspakovka(elem)    #рекурсивно ищем меньшие части элемента\n",
        "        else: #реализуется для строк например\n",
        "          array.append(elem)\n",
        "      else:\n",
        "        if type(elem).__name__=='bool':\n",
        "          z+=1\n",
        "        else: #реализуется для чисел напрмер\n",
        "          array.append(elem) \n",
        "  return equal(array)+z\n"
      ],
      "execution_count": null,
      "outputs": []
    },
    {
      "cell_type": "code",
      "metadata": {
        "colab": {
          "base_uri": "https://localhost:8080/"
        },
        "id": "gT9qn18B_kcT",
        "outputId": "3082ea4b-22a0-4530-9aeb-ed99c4b3243a"
      },
      "source": [
        "print(different([0, 1, 2],'toy',True,False, [[2, 3, 4], [5 , 6]], 6,7,{2:4,5:6},{2:4,7:8},{7,8}))"
      ],
      "execution_count": null,
      "outputs": [
        {
          "output_type": "stream",
          "name": "stdout",
          "text": [
            "22\n"
          ]
        }
      ]
    },
    {
      "cell_type": "markdown",
      "metadata": {
        "id": "T_KIFYOFpiB4"
      },
      "source": [
        "*2 словаря, 3 различные пары ключ:значение, 9 различных чисел, 2 листа за первый и третий аргумент, 2 вложенных списка, 1 строка, 2 Вool'а, 1 set* \n",
        "\n",
        "*Итого:* 2+3+9+2+2+1+2+1=22"
      ]
    },
    {
      "cell_type": "markdown",
      "metadata": {
        "id": "azgyQ6IqwWnA"
      },
      "source": [
        "*При решении использовано:*\n",
        "https://coderoad.ru/62118069/%D0%9A%D0%B0%D0%BA-%D0%BF%D1%80%D0%B5%D0%BE%D0%B1%D1%80%D0%B0%D0%B7%D0%BE%D0%B2%D0%B0%D1%82%D1%8C-%D1%80%D0%B5%D0%B7%D1%83%D0%BB%D1%8C%D1%82%D0%B0%D1%82-%D1%82%D0%B8%D0%BF%D0%B0-%D0%B2-%D1%81%D1%82%D1%80%D0%BE%D0%BA%D1%83-%D0%B2-python\n",
        "\n",
        "https://advpyneng.readthedocs.io/ru/latest/book/12_oop_inheritance/abc_standard_library.html"
      ]
    },
    {
      "cell_type": "markdown",
      "metadata": {
        "id": "Rr0xebsUc9Mc"
      },
      "source": [
        "### Упражнение 1:\n",
        "Еще раз разберитесь, как и чему присваиваются аргументы в функциях. Подумайте, что будет выдавать каждый из вызовов ниже, а потом убедитесь в правильности своего понимания  \n",
        "```python\n",
        "def illustrate(a, *params, b=10):\n",
        "    print(\"a=\", a)              #выводит значение a\n",
        "    \n",
        "    print(\"params=\", end=\"\")    #выводит содержимое params\n",
        "    for elem in params:\n",
        "        print(elem, end=\"\")     #обратите внимание, у принта как раз и есть этот\n",
        "    print()                     #параметр end, до которого можно достучаться только непосредственным его указанием\n",
        "    \n",
        "    print(\"b=\", b)              #выводит значение b\n",
        "    \n",
        "illustrate(1, 2, 3, 4)\n",
        "illustrate(1, 2, b=3)\n",
        "illustrate(1, 2)\n",
        "illustrate(1)\n",
        "illustrate(b=1, 2)\n",
        "illustrate([1,2,3,4,5])\n",
        "illustrate(*[1,2,3,4,5])\n",
        "illustrate(**{\"a\":1, \"b\":5})\n",
        "illustrate(*{\"a\":1, \"b\":5})\n",
        "illustrate({\"a\":1, \"b\":5})\n",
        "illustrate(*{\"a\", \"b\"})\n",
        "illustrate({\"a\", \"b\"})\n",
        "```"
      ]
    },
    {
      "cell_type": "markdown",
      "metadata": {
        "id": "M2EY7FKZ3S3R"
      },
      "source": [
        "а-*обязательный параметр,* params *-tuple,cодержит неопредленное кол-во неназванных параметров*, b *- параметр со значением по умолчанию. При задании внешних параметров, без явного назначения, первый параметр будет записываться в* а *, все последующие в* params, *если не присвоено конкретного значения извне,* b *будет равен своему значению по умолчанию*\n",
        "1. a=1, params=(2,3,4),b=10\n",
        "2. a=1, params=2, b=3\n",
        "3. a=1, params=2, b=10\n",
        "4. a=1, params=None, b=10; *обязательный параметр дан, этого достаточно*\n",
        "5. *не отработает, неправильный порядок передачи данных. Надо было* illustrate(2,b=1), *тогда результатом было бы* a=2, params=None, b=1\n",
        "6. a=[1,2,3,4,5], params=None, b=10 *в* а *попадает один элемент - массив*\n",
        "7. a=1, params=(2,3,4,5), b=10\n",
        "8. a=1,params=None,b=5; *для распаковки словаря по типу ключ=значение нужно указывать две звездочки, для массива-1*\n",
        "9. а='а',params='b', b=10; *если при распаковке словаря указана только 1 звезда, то распаковка пойдет по ключам в параметры функции в иерархическом порядке*\n",
        "10. a={\"a\":1, \"b\":5}, params=None, b=10; *см. п6*\n",
        "11. a='a', params='b', b=10; *распаковка set аналогична распоковки массива*\n",
        "12. a={\"a\", \"b\"}, params = None, b=10; *cм. п6*\n",
        "\n"
      ]
    },
    {
      "cell_type": "code",
      "metadata": {
        "id": "hVId0xxxkBKu"
      },
      "source": [
        "def illustrate(a, *params, b=10):\n",
        "    print(\"a=\", a)              #выводит значение a\n",
        "\n",
        "    print(\"params=\", end=\"\")    #выводит содержимое params\n",
        "    for elem in params:\n",
        "        print(elem, end=\"\")     #обратите внимание, у принта как раз и есть этот\n",
        "    print()                     #параметр end, до которого можно достучаться только непосредственным его указанием\n",
        "\n",
        "    print(\"b=\", b)              #выводит значение b"
      ],
      "execution_count": null,
      "outputs": []
    },
    {
      "cell_type": "code",
      "metadata": {
        "colab": {
          "base_uri": "https://localhost:8080/"
        },
        "id": "CAErhxWykBtk",
        "outputId": "70cbed28-f289-444d-a23f-83d2d905f00a"
      },
      "source": [
        "illustrate(1, 2, 3, 4)"
      ],
      "execution_count": null,
      "outputs": [
        {
          "output_type": "stream",
          "name": "stdout",
          "text": [
            "a= 1\n",
            "params=234\n",
            "b= 10\n"
          ]
        }
      ]
    },
    {
      "cell_type": "code",
      "metadata": {
        "colab": {
          "base_uri": "https://localhost:8080/"
        },
        "id": "vxh1-TWdkKH6",
        "outputId": "c7f7f115-bc70-4f92-e694-55e4837dd82c"
      },
      "source": [
        "illustrate(1, 2, b=3)"
      ],
      "execution_count": null,
      "outputs": [
        {
          "name": "stdout",
          "output_type": "stream",
          "text": [
            "a= 1\n",
            "params=2\n",
            "b= 3\n"
          ]
        }
      ]
    },
    {
      "cell_type": "code",
      "metadata": {
        "colab": {
          "base_uri": "https://localhost:8080/"
        },
        "id": "LV7qSPaPn4Ba",
        "outputId": "95de5069-2eb2-4be0-d56b-d53265940afb"
      },
      "source": [
        "illustrate(1, 2)"
      ],
      "execution_count": null,
      "outputs": [
        {
          "name": "stdout",
          "output_type": "stream",
          "text": [
            "a= 1\n",
            "params=2\n",
            "b= 10\n"
          ]
        }
      ]
    },
    {
      "cell_type": "code",
      "metadata": {
        "colab": {
          "base_uri": "https://localhost:8080/"
        },
        "id": "VRrx9RRVn5ea",
        "outputId": "589b380b-fd61-4b91-e912-3d8e9e8bda34"
      },
      "source": [
        "illustrate(1)"
      ],
      "execution_count": null,
      "outputs": [
        {
          "name": "stdout",
          "output_type": "stream",
          "text": [
            "a= 1\n",
            "params=\n",
            "b= 10\n"
          ]
        }
      ]
    },
    {
      "cell_type": "code",
      "metadata": {
        "colab": {
          "base_uri": "https://localhost:8080/",
          "height": 131
        },
        "id": "fo1N2frEn9l8",
        "outputId": "923065b9-953e-4887-fba7-25171d4ee07b"
      },
      "source": [
        "illustrate(b=1, 2)"
      ],
      "execution_count": null,
      "outputs": [
        {
          "ename": "SyntaxError",
          "evalue": "ignored",
          "output_type": "error",
          "traceback": [
            "\u001b[0;36m  File \u001b[0;32m\"<ipython-input-85-482bce013a94>\"\u001b[0;36m, line \u001b[0;32m1\u001b[0m\n\u001b[0;31m    illustrate(b=1, 2)\u001b[0m\n\u001b[0m                   ^\u001b[0m\n\u001b[0;31mSyntaxError\u001b[0m\u001b[0;31m:\u001b[0m positional argument follows keyword argument\n"
          ]
        }
      ]
    },
    {
      "cell_type": "markdown",
      "metadata": {
        "id": "d08pXktnoDBo"
      },
      "source": [
        "*Обязательные переменные должны идти первыми!*"
      ]
    },
    {
      "cell_type": "code",
      "metadata": {
        "colab": {
          "base_uri": "https://localhost:8080/"
        },
        "id": "u-qAPKJ5DMdU",
        "outputId": "0cc0211a-cb21-4846-913b-337f8aca803d"
      },
      "source": [
        "illustrate(2,b=1)"
      ],
      "execution_count": null,
      "outputs": [
        {
          "name": "stdout",
          "output_type": "stream",
          "text": [
            "a= 2\n",
            "params=\n",
            "b= 1\n"
          ]
        }
      ]
    },
    {
      "cell_type": "code",
      "metadata": {
        "colab": {
          "base_uri": "https://localhost:8080/"
        },
        "id": "Z8EXEY5RoCC2",
        "outputId": "097e2817-7bbc-4c44-ca3f-7aa7811dbd91"
      },
      "source": [
        "illustrate([1,2,3,4,5])"
      ],
      "execution_count": null,
      "outputs": [
        {
          "name": "stdout",
          "output_type": "stream",
          "text": [
            "a= [1, 2, 3, 4, 5]\n",
            "params=\n",
            "b= 10\n"
          ]
        }
      ]
    },
    {
      "cell_type": "code",
      "metadata": {
        "colab": {
          "base_uri": "https://localhost:8080/"
        },
        "id": "JWIpNTKHoJas",
        "outputId": "1da3f466-36ba-49d7-a136-fa0e8490ab02"
      },
      "source": [
        "illustrate(*[1,2,3,4,5])"
      ],
      "execution_count": null,
      "outputs": [
        {
          "name": "stdout",
          "output_type": "stream",
          "text": [
            "a= 1\n",
            "params=2345\n",
            "b= 10\n"
          ]
        }
      ]
    },
    {
      "cell_type": "code",
      "metadata": {
        "colab": {
          "base_uri": "https://localhost:8080/"
        },
        "id": "sDa54HW2oMPE",
        "outputId": "cf305977-857d-4b70-a436-e3e09b62d3b5"
      },
      "source": [
        "illustrate(**{\"a\":1, \"b\":5})"
      ],
      "execution_count": null,
      "outputs": [
        {
          "name": "stdout",
          "output_type": "stream",
          "text": [
            "a= 1\n",
            "params=\n",
            "b= 5\n"
          ]
        }
      ]
    },
    {
      "cell_type": "code",
      "metadata": {
        "colab": {
          "base_uri": "https://localhost:8080/"
        },
        "id": "3EHQGcmmoPRw",
        "outputId": "26eaa83d-59e6-42e2-8c55-db475182b03b"
      },
      "source": [
        "illustrate(*{\"a\":1, \"b\":5})"
      ],
      "execution_count": null,
      "outputs": [
        {
          "name": "stdout",
          "output_type": "stream",
          "text": [
            "a= a\n",
            "params=b\n",
            "b= 10\n"
          ]
        }
      ]
    },
    {
      "cell_type": "code",
      "metadata": {
        "colab": {
          "base_uri": "https://localhost:8080/"
        },
        "id": "MQ25iaYjoTIH",
        "outputId": "9810946a-2707-4306-b370-7e8a826de5e0"
      },
      "source": [
        "illustrate({\"a\":1, \"b\":5})"
      ],
      "execution_count": null,
      "outputs": [
        {
          "name": "stdout",
          "output_type": "stream",
          "text": [
            "a= {'a': 1, 'b': 5}\n",
            "params=\n",
            "b= 10\n"
          ]
        }
      ]
    },
    {
      "cell_type": "code",
      "metadata": {
        "colab": {
          "base_uri": "https://localhost:8080/"
        },
        "id": "MCt1jzs9oXSm",
        "outputId": "5ae22d82-e76e-476c-c969-887c3ca79989"
      },
      "source": [
        "illustrate(*{\"a\", \"b\"}) #set"
      ],
      "execution_count": null,
      "outputs": [
        {
          "name": "stdout",
          "output_type": "stream",
          "text": [
            "a= b\n",
            "params=a\n",
            "b= 10\n"
          ]
        }
      ]
    },
    {
      "cell_type": "code",
      "metadata": {
        "colab": {
          "base_uri": "https://localhost:8080/"
        },
        "id": "Yoxz2zrWobp8",
        "outputId": "59c351c8-eed5-47e5-dca2-b98d73686e82"
      },
      "source": [
        "illustrate({\"a\", \"b\"})"
      ],
      "execution_count": null,
      "outputs": [
        {
          "name": "stdout",
          "output_type": "stream",
          "text": [
            "a= {'b', 'a'}\n",
            "params=\n",
            "b= 10\n"
          ]
        }
      ]
    },
    {
      "cell_type": "markdown",
      "metadata": {
        "id": "S33pwxxkvH9p"
      },
      "source": [
        "*Разница в форме ответа, у меня, выше, написано само присваивание переменных, тут непосредственный вывод.*"
      ]
    }
  ]
}