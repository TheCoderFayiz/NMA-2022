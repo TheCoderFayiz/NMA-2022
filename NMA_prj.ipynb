{
  "nbformat": 4,
  "nbformat_minor": 0,
  "metadata": {
    "colab": {
      "name": "NMA_prj.ipynb",
      "provenance": []
    },
    "kernelspec": {
      "name": "python3",
      "display_name": "Python 3"
    },
    "language_info": {
      "name": "python"
    }
  },
  "cells": [
    {
      "cell_type": "markdown",
      "source": [
        "\"\""
      ],
      "metadata": {
        "id": "sg0ViC2FzMu2"
      }
    },
    {
      "cell_type": "code",
      "execution_count": null,
      "metadata": {
        "id": "1lPre1Hymab8"
      },
      "outputs": [],
      "source": [
        ""
      ]
    }
  ]
}